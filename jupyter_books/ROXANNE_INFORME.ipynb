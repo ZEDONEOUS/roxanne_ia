{
 "cells": [
  {
   "cell_type": "code",
   "execution_count": 2,
   "metadata": {
    "scrolled": true
   },
   "outputs": [
    {
     "data": {
      "text/html": [
       "<div>\n",
       "<style scoped>\n",
       "    .dataframe tbody tr th:only-of-type {\n",
       "        vertical-align: middle;\n",
       "    }\n",
       "\n",
       "    .dataframe tbody tr th {\n",
       "        vertical-align: top;\n",
       "    }\n",
       "\n",
       "    .dataframe thead th {\n",
       "        text-align: right;\n",
       "    }\n",
       "</style>\n",
       "<table border=\"1\" class=\"dataframe\">\n",
       "  <thead>\n",
       "    <tr style=\"text-align: right;\">\n",
       "      <th></th>\n",
       "      <th>autor</th>\n",
       "      <th>ciudades</th>\n",
       "      <th>conteo_retweets</th>\n",
       "      <th>empresas</th>\n",
       "      <th>fecha_creacion</th>\n",
       "      <th>texto</th>\n",
       "    </tr>\n",
       "  </thead>\n",
       "  <tbody>\n",
       "    <tr>\n",
       "      <th>3218</th>\n",
       "      <td>gothsarv</td>\n",
       "      <td>NaN</td>\n",
       "      <td>0</td>\n",
       "      <td>Codensa</td>\n",
       "      <td>2018-08-07 17:51:41</td>\n",
       "      <td>@CodensaEnergia  Hola,  en el barrio Galicia d...</td>\n",
       "    </tr>\n",
       "  </tbody>\n",
       "</table>\n",
       "</div>"
      ],
      "text/plain": [
       "         autor ciudades  conteo_retweets empresas      fecha_creacion  \\\n",
       "3218  gothsarv      NaN                0  Codensa 2018-08-07 17:51:41   \n",
       "\n",
       "                                                  texto  \n",
       "3218  @CodensaEnergia  Hola,  en el barrio Galicia d...  "
      ]
     },
     "execution_count": 2,
     "metadata": {},
     "output_type": "execute_result"
    }
   ],
   "source": [
    "import os\n",
    "import numpy as np\n",
    "import pandas as pd\n",
    "import matplotlib\n",
    "import matplotlib.pyplot as plt\n",
    "\n",
    "fig_size = plt.rcParams[\"figure.figsize\"]\n",
    "fig_size[0] = 12\n",
    "fig_size[1] = 9\n",
    "plt.rcParams[\"figure.figsize\"] = fig_size\n",
    "\n",
    "lugares_electricaribe = [\"Barranquilla\", \"Cartagena\t\"]\n",
    "\n",
    "files = os.listdir(\"csv/registro_continuo/\")\n",
    "df_complete = pd.DataFrame()\n",
    "for file in files:\n",
    "    df_file = pd.read_csv(\"csv/registro_continuo/\" + file)\n",
    "    if len(df_complete) > 0:\n",
    "        df_complete = df_complete.append(df_file, ignore_index=True)\n",
    "    else:\n",
    "        df_complete = df_file\n",
    "    \n",
    "df_complete[\"fecha_creacion\"] = pd.to_datetime(df_complete[\"fecha_creacion\"]) - pd.Timedelta(\"5 hours\")\n",
    "df_complete[\"conteo_retweets\"] = df_complete[\"conteo_retweets\"].values.astype(int)\n",
    "df_complete = df_complete[~df_complete[\"ciudades\"].isin(\n",
    "    [\"Colombia\", \"Colombia, Cartagena\", \"Colombia, Nariño\", \"Colombia, Bogota\"]\n",
    ")]\n",
    "\n",
    "df_complete = df_complete[~df_complete[\"empresas\"].isin(\n",
    "    [\"Electricaribe, Codensa\", \"Electricaribe, EPM\"]\n",
    ")]\n",
    "\n",
    "df_complete = df_complete[~df_complete[\"palabras_clave\"].isin(\n",
    "    [\"Petro\"]\n",
    ")]\n",
    "\n",
    "df_complete = df_complete.drop(columns=['number','palabras_clave'])\n",
    "\n",
    "df_complete = df_complete[~pd.isna(df_complete[\"texto\"])]\n",
    "\n",
    "#df_complete = df_complete[df_complete[\"texto\"].str.contains(\" en \", regex = True)]\n",
    "\n",
    "df_complete = df_complete.loc[:, ~df_complete.columns.str.contains('^Unnamed')]\n",
    "df_complete[\"texto\"] = df_complete[\"texto\"].replace(\"\\\\n\", ' ', regex = True)\n",
    "#df_complete[\"texto\"] = df_complete[\"texto\"].replace('http[s]?[^$|\\s]*', '', regex = True)\n",
    "df_complete = df_complete.sort_values(by=[\"conteo_retweets\"])\n",
    "\n",
    "df_emcali = df_complete[df_complete[\"texto\"].str.contains(\"[@]?[eE][mM][cC][aA][lL][iI]\")]\n",
    "df_complete = df_complete[~df_complete[\"ciudades\"].isin([\"Cali\"])]\n",
    "df_complete = df_complete.append(df_emcali)\n",
    "\n",
    "df_complete.loc[(df_complete[\"ciudades\"] == \"Barranquilla\") & pd.isna(df_complete[\"empresas\"]), \"empresas\"] = \"Electricaribe\"\n",
    "df_complete.loc[(df_complete[\"ciudades\"] == \"Cartagena\") & pd.isna(df_complete[\"empresas\"]), \"empresas\"] = \"Electricaribe\"\n",
    "df_complete.loc[(df_complete[\"ciudades\"] == \"Bogotá\") & pd.isna(df_complete[\"empresas\"]), \"empresas\"] = \"Codensa\"\n",
    "df_complete.loc[(df_complete[\"ciudades\"] == \"Bogota\") & pd.isna(df_complete[\"empresas\"]), \"empresas\"] = \"Codensa\"\n",
    "df_complete.loc[(df_complete[\"ciudades\"] == \"Cali\") & pd.isna(df_complete[\"empresas\"]), \"empresas\"] = \"EMCALI\"\n",
    "df_complete.loc[(df_complete[\"ciudades\"] == \"Nariño\") & pd.isna(df_complete[\"empresas\"]), \"empresas\"] = \"Cedenar\"\n",
    "df_complete.loc[(df_complete[\"ciudades\"] == \"Villavicencio\") & pd.isna(df_complete[\"empresas\"]), \"empresas\"] = \"Emsa\"\n",
    "\n",
    "df_complete = df_complete.drop_duplicates([\"texto\"], keep=\"last\")\n",
    "df_complete = df_complete.drop_duplicates([\"autor\",\"fecha_creacion\"], keep=\"first\")"
   ]
  },
  {
   "cell_type": "code",
   "execution_count": 3,
   "metadata": {
    "scrolled": true
   },
   "outputs": [
    {
     "name": "stdout",
     "output_type": "stream",
     "text": [
      "completo 1767\n",
      "Bajo 1199\n",
      "Medio 410\n",
      "Alto 158\n"
     ]
    }
   ],
   "source": [
    "df_complete[\"horas\"] = df_complete[\"texto\"].str.extract(\n",
    "    r'(?P<horas>\\d+(?=.{0}[ ]{0,5}?[hH][oO][rR][aA][sS]?))', \n",
    "    expand = True\n",
    ")\n",
    "df_complete[\"horas\"] = df_complete[\"horas\"].fillna(0)\n",
    "df_complete[\"horas\"] = df_complete[\"horas\"].astype(int)\n",
    "df_complete[\"dias\"] = df_complete[\"texto\"].str.extract(\n",
    "    r'(?P<dias>\\d+(?=.{0}[ ]{0,5}?[dD][iíIÍ][aA][sS]?))', \n",
    "    expand = True\n",
    ")\n",
    "df_complete[\"dias\"] = df_complete[\"dias\"].fillna(0)\n",
    "df_complete[\"dias\"] = df_complete[\"dias\"].astype(int)\n",
    "\n",
    "df_complete.loc[df_complete[\"conteo_retweets\"].astype(int) == 0, \"riesgo\"] = \"1\"\n",
    "df_complete.loc[df_complete[\"horas\"].astype(int) == 0, \"riesgo\"] = \"1\"\n",
    "\n",
    "df_complete.loc[df_complete[\"conteo_retweets\"].astype(int) > 0, \"riesgo\"] = \"2\"\n",
    "df_complete.loc[df_complete[\"horas\"].astype(int) > 0, \"riesgo\"] = \"2\"\n",
    "\n",
    "df_complete.loc[df_complete[\"conteo_retweets\"].astype(int) >= 20, \"riesgo\"] = \"3\"\n",
    "df_complete.loc[df_complete[\"horas\"].astype(int) >= 12, \"riesgo\"] = \"3\"\n",
    "df_complete.loc[df_complete[\"dias\"].astype(int) > 0, \"riesgo\"] = \"3\"\n",
    "\n",
    "print(\"completo\", len(df_complete))\n",
    "print(\"Bajo\", len(df_complete[df_complete[\"riesgo\"] == \"1\"]))\n",
    "print(\"Medio\", len(df_complete[df_complete[\"riesgo\"] == \"2\"]))\n",
    "print(\"Alto\", len(df_complete[df_complete[\"riesgo\"] == \"3\"]))"
   ]
  },
  {
   "cell_type": "code",
   "execution_count": 33,
   "metadata": {
    "scrolled": false
   },
   "outputs": [
    {
     "data": {
      "text/plain": [
       "<matplotlib.axes._subplots.AxesSubplot at 0x7fba6479c5f8>"
      ]
     },
     "execution_count": 33,
     "metadata": {},
     "output_type": "execute_result"
    },
    {
     "data": {
      "image/png": "[encoded data removed]",
      "text/plain": [
       "<Figure size 864x648 with 1 Axes>"
      ]
     },
     "metadata": {},
     "output_type": "display_data"
    }
   ],
   "source": [
    "df_graph = df_complete[[\"riesgo\", \"dias\", \"horas\", \"fecha_creacion\"]]\n",
    "df_graph.columns = [\"Riesgo\", \"dias\", \"horas\", \"fecha_creacion\"]\n",
    "df_graph = df_graph.sort_values(by=[\"Riesgo\"])\n",
    "\n",
    "df_graph.loc[df_graph[\"Riesgo\"] == \"1\", \"Riesgo\"] = \"Bajo impacto\"\n",
    "df_graph.loc[df_graph[\"Riesgo\"] == \"2\", \"Riesgo\"] = \"Medio impacto\"\n",
    "df_graph.loc[df_graph[\"Riesgo\"] == \"3\", \"Riesgo\"] = \"Alto impacto\"\n",
    "\n",
    "riesgo_group = df_graph.groupby(\"Riesgo\").agg({\n",
    "    \"Riesgo\":[\"count\"]\n",
    "})\n",
    "\n",
    "riesgo_group.columns = [\"Conteo\"]\n",
    "riesgo_group = riesgo_group.sort_values(by=[\"Conteo\"], ascending=False)\n",
    "riesgo_group[\"Porcentaje\"] = 100 * riesgo_group[\"Conteo\"] / np.sum(riesgo_group[\"Conteo\"])\n",
    "\n",
    "riesgo_graph = riesgo_group[\"Conteo\"].plot(kind=\"bar\", rot=0)\n",
    "riesgo_graph.set_xlabel(\"RIESGO\")\n",
    "riesgo_graph.set_ylabel(\"TWEETS\")\n",
    "riesgo_graph"
   ]
  },
  {
   "cell_type": "code",
   "execution_count": 34,
   "metadata": {
    "scrolled": true
   },
   "outputs": [
    {
     "name": "stderr",
     "output_type": "stream",
     "text": [
      "/usr/local/lib/python3.5/dist-packages/pandas/core/indexing.py:537: SettingWithCopyWarning: \n",
      "A value is trying to be set on a copy of a slice from a DataFrame.\n",
      "Try using .loc[row_indexer,col_indexer] = value instead\n",
      "\n",
      "See the caveats in the documentation: http://pandas.pydata.org/pandas-docs/stable/indexing.html#indexing-view-versus-copy\n",
      "  self.obj[item] = s\n"
     ]
    },
    {
     "data": {
      "text/html": [
       "<div>\n",
       "<style scoped>\n",
       "    .dataframe tbody tr th:only-of-type {\n",
       "        vertical-align: middle;\n",
       "    }\n",
       "\n",
       "    .dataframe tbody tr th {\n",
       "        vertical-align: top;\n",
       "    }\n",
       "\n",
       "    .dataframe thead th {\n",
       "        text-align: right;\n",
       "    }\n",
       "</style>\n",
       "<table border=\"1\" class=\"dataframe\">\n",
       "  <thead>\n",
       "    <tr style=\"text-align: right;\">\n",
       "      <th></th>\n",
       "      <th></th>\n",
       "      <th>Conteo</th>\n",
       "    </tr>\n",
       "    <tr>\n",
       "      <th>Empresas</th>\n",
       "      <th>Riesgo</th>\n",
       "      <th></th>\n",
       "    </tr>\n",
       "  </thead>\n",
       "  <tbody>\n",
       "    <tr>\n",
       "      <th>Cedenar</th>\n",
       "      <th>Bajo impacto</th>\n",
       "      <td>2</td>\n",
       "    </tr>\n",
       "    <tr>\n",
       "      <th rowspan=\"3\" valign=\"top\">Codensa</th>\n",
       "      <th>Alto impacto</th>\n",
       "      <td>40</td>\n",
       "    </tr>\n",
       "    <tr>\n",
       "      <th>Bajo impacto</th>\n",
       "      <td>178</td>\n",
       "    </tr>\n",
       "    <tr>\n",
       "      <th>Medio impacto</th>\n",
       "      <td>54</td>\n",
       "    </tr>\n",
       "    <tr>\n",
       "      <th rowspan=\"3\" valign=\"top\">EMCALI</th>\n",
       "      <th>Alto impacto</th>\n",
       "      <td>1</td>\n",
       "    </tr>\n",
       "    <tr>\n",
       "      <th>Bajo impacto</th>\n",
       "      <td>23</td>\n",
       "    </tr>\n",
       "    <tr>\n",
       "      <th>Medio impacto</th>\n",
       "      <td>7</td>\n",
       "    </tr>\n",
       "    <tr>\n",
       "      <th rowspan=\"3\" valign=\"top\">EPM</th>\n",
       "      <th>Alto impacto</th>\n",
       "      <td>1</td>\n",
       "    </tr>\n",
       "    <tr>\n",
       "      <th>Bajo impacto</th>\n",
       "      <td>9</td>\n",
       "    </tr>\n",
       "    <tr>\n",
       "      <th>Medio impacto</th>\n",
       "      <td>3</td>\n",
       "    </tr>\n",
       "    <tr>\n",
       "      <th rowspan=\"2\" valign=\"top\">Ebsa</th>\n",
       "      <th>Bajo impacto</th>\n",
       "      <td>1</td>\n",
       "    </tr>\n",
       "    <tr>\n",
       "      <th>Medio impacto</th>\n",
       "      <td>2</td>\n",
       "    </tr>\n",
       "    <tr>\n",
       "      <th rowspan=\"3\" valign=\"top\">Electricaribe</th>\n",
       "      <th>Alto impacto</th>\n",
       "      <td>27</td>\n",
       "    </tr>\n",
       "    <tr>\n",
       "      <th>Bajo impacto</th>\n",
       "      <td>226</td>\n",
       "    </tr>\n",
       "    <tr>\n",
       "      <th>Medio impacto</th>\n",
       "      <td>101</td>\n",
       "    </tr>\n",
       "    <tr>\n",
       "      <th rowspan=\"3\" valign=\"top\">Emsa</th>\n",
       "      <th>Alto impacto</th>\n",
       "      <td>1</td>\n",
       "    </tr>\n",
       "    <tr>\n",
       "      <th>Bajo impacto</th>\n",
       "      <td>34</td>\n",
       "    </tr>\n",
       "    <tr>\n",
       "      <th>Medio impacto</th>\n",
       "      <td>8</td>\n",
       "    </tr>\n",
       "    <tr>\n",
       "      <th>Enertolima</th>\n",
       "      <th>Bajo impacto</th>\n",
       "      <td>3</td>\n",
       "    </tr>\n",
       "    <tr>\n",
       "      <th>Epsa</th>\n",
       "      <th>Alto impacto</th>\n",
       "      <td>1</td>\n",
       "    </tr>\n",
       "  </tbody>\n",
       "</table>\n",
       "</div>"
      ],
      "text/plain": [
       "                             Conteo\n",
       "Empresas      Riesgo               \n",
       "Cedenar       Bajo impacto        2\n",
       "Codensa       Alto impacto       40\n",
       "              Bajo impacto      178\n",
       "              Medio impacto      54\n",
       "EMCALI        Alto impacto        1\n",
       "              Bajo impacto       23\n",
       "              Medio impacto       7\n",
       "EPM           Alto impacto        1\n",
       "              Bajo impacto        9\n",
       "              Medio impacto       3\n",
       "Ebsa          Bajo impacto        1\n",
       "              Medio impacto       2\n",
       "Electricaribe Alto impacto       27\n",
       "              Bajo impacto      226\n",
       "              Medio impacto     101\n",
       "Emsa          Alto impacto        1\n",
       "              Bajo impacto       34\n",
       "              Medio impacto       8\n",
       "Enertolima    Bajo impacto        3\n",
       "Epsa          Alto impacto        1"
      ]
     },
     "execution_count": 34,
     "metadata": {},
     "output_type": "execute_result"
    }
   ],
   "source": [
    "df_graph = df_complete[[\"riesgo\", \"dias\", \"horas\", \"fecha_creacion\", \"empresas\"]]\n",
    "df_graph.columns = [\"Riesgo\", \"dias\", \"horas\", \"fecha_creacion\", \"Empresas\"]\n",
    "df_graph.loc[df_graph[\"Riesgo\"] == \"1\", \"Riesgo\"] = \"Bajo impacto\"\n",
    "df_graph.loc[df_graph[\"Riesgo\"] == \"2\", \"Riesgo\"] = \"Medio impacto\"\n",
    "df_graph.loc[df_graph[\"Riesgo\"] == \"3\", \"Riesgo\"] = \"Alto impacto\"\n",
    "\n",
    "riesgo_empresas_grouped = df_graph.groupby([\"Empresas\", \"Riesgo\"]).agg({\n",
    "    \"Riesgo\":\"count\"\n",
    "})\n",
    "\n",
    "riesgo_empresas_grouped.columns = [\"Conteo\"]\n",
    "riesgo_empresas_grouped"
   ]
  },
  {
   "cell_type": "code",
   "execution_count": 35,
   "metadata": {
    "scrolled": false
   },
   "outputs": [
    {
     "data": {
      "text/plain": [
       "<matplotlib.axes._subplots.AxesSubplot at 0x7fba62368ba8>"
      ]
     },
     "execution_count": 35,
     "metadata": {},
     "output_type": "execute_result"
    },
    {
     "data": {
      "image/png": "[encoded data removed]",
      "text/plain": [
       "<Figure size 864x648 with 1 Axes>"
      ]
     },
     "metadata": {},
     "output_type": "display_data"
    }
   ],
   "source": [
    "df_graph = df_complete[[\"riesgo\", \"dias\", \"horas\", \"fecha_creacion\"]]\n",
    "df_graph = df_graph.sort_values(by=[\"fecha_creacion\"])\n",
    "df_graph.columns = [\"Riesgo\", \"dias\", \"horas\", \"Fecha\"]\n",
    "df_graph[\"Fecha\"] = df_graph[\"Fecha\"].dt.strftime(\"%Y-%m-%d\")\n",
    "\n",
    "fechas_group = df_graph.groupby([\"Fecha\", \"Riesgo\"]).agg({\n",
    "    \"Riesgo\":[\"count\"]\n",
    "})\n",
    "\n",
    "fechas_group = fechas_group.unstack()\n",
    "fechas_group.columns = [\"Bajo impacto\", \"Medio impacto\", \"Alto impacto\"]\n",
    "\n",
    "fechas_graph = fechas_group.plot(kind = 'bar', stacked = True)\n",
    "fechas_graph.set_xlabel(\"FECHAS\")\n",
    "fechas_graph.set_ylabel(\"TWEETS\")\n",
    "fechas_graph"
   ]
  },
  {
   "cell_type": "code",
   "execution_count": 36,
   "metadata": {
    "scrolled": true
   },
   "outputs": [
    {
     "data": {
      "text/html": [
       "<div>\n",
       "<style scoped>\n",
       "    .dataframe tbody tr th:only-of-type {\n",
       "        vertical-align: middle;\n",
       "    }\n",
       "\n",
       "    .dataframe tbody tr th {\n",
       "        vertical-align: top;\n",
       "    }\n",
       "\n",
       "    .dataframe thead th {\n",
       "        text-align: right;\n",
       "    }\n",
       "</style>\n",
       "<table border=\"1\" class=\"dataframe\">\n",
       "  <thead>\n",
       "    <tr style=\"text-align: right;\">\n",
       "      <th></th>\n",
       "      <th>Bajo impacto</th>\n",
       "      <th>Medio impacto</th>\n",
       "      <th>Alto impacto</th>\n",
       "    </tr>\n",
       "    <tr>\n",
       "      <th>Empresas</th>\n",
       "      <th></th>\n",
       "      <th></th>\n",
       "      <th></th>\n",
       "    </tr>\n",
       "  </thead>\n",
       "  <tbody>\n",
       "    <tr>\n",
       "      <th>Cedenar</th>\n",
       "      <td>2</td>\n",
       "      <td>0</td>\n",
       "      <td>0</td>\n",
       "    </tr>\n",
       "    <tr>\n",
       "      <th>Codensa</th>\n",
       "      <td>178</td>\n",
       "      <td>54</td>\n",
       "      <td>40</td>\n",
       "    </tr>\n",
       "    <tr>\n",
       "      <th>EMCALI</th>\n",
       "      <td>23</td>\n",
       "      <td>7</td>\n",
       "      <td>1</td>\n",
       "    </tr>\n",
       "    <tr>\n",
       "      <th>EPM</th>\n",
       "      <td>9</td>\n",
       "      <td>3</td>\n",
       "      <td>1</td>\n",
       "    </tr>\n",
       "    <tr>\n",
       "      <th>Ebsa</th>\n",
       "      <td>1</td>\n",
       "      <td>2</td>\n",
       "      <td>0</td>\n",
       "    </tr>\n",
       "    <tr>\n",
       "      <th>Electricaribe</th>\n",
       "      <td>226</td>\n",
       "      <td>101</td>\n",
       "      <td>27</td>\n",
       "    </tr>\n",
       "    <tr>\n",
       "      <th>Emsa</th>\n",
       "      <td>34</td>\n",
       "      <td>8</td>\n",
       "      <td>1</td>\n",
       "    </tr>\n",
       "    <tr>\n",
       "      <th>Enertolima</th>\n",
       "      <td>3</td>\n",
       "      <td>0</td>\n",
       "      <td>0</td>\n",
       "    </tr>\n",
       "    <tr>\n",
       "      <th>Epsa</th>\n",
       "      <td>0</td>\n",
       "      <td>0</td>\n",
       "      <td>1</td>\n",
       "    </tr>\n",
       "  </tbody>\n",
       "</table>\n",
       "</div>"
      ],
      "text/plain": [
       "               Bajo impacto  Medio impacto  Alto impacto\n",
       "Empresas                                                \n",
       "Cedenar                   2              0             0\n",
       "Codensa                 178             54            40\n",
       "EMCALI                   23              7             1\n",
       "EPM                       9              3             1\n",
       "Ebsa                      1              2             0\n",
       "Electricaribe           226            101            27\n",
       "Emsa                     34              8             1\n",
       "Enertolima                3              0             0\n",
       "Epsa                      0              0             1"
      ]
     },
     "execution_count": 36,
     "metadata": {},
     "output_type": "execute_result"
    }
   ],
   "source": [
    "df_graph = df_complete[[\"riesgo\", \"dias\", \"horas\", \"fecha_creacion\", \"empresas\"]]\n",
    "df_graph.columns = [\"Riesgo\", \"dias\", \"horas\", \"fecha_creacion\", \"Empresas\"]\n",
    "df_graph = df_graph.sort_values(by=[\"fecha_creacion\"])\n",
    "df_graph[\"fecha_creacion\"] = df_graph[\"fecha_creacion\"].dt.strftime(\"%Y-%m-%d\")\n",
    "\n",
    "empresas_group = df_graph.groupby([\"Empresas\", \"Riesgo\"]).agg({\n",
    "    \"Riesgo\":[\"count\"]\n",
    "})\n",
    "\n",
    "empresas_group = empresas_group.unstack()\n",
    "empresas_group.columns = [\"Bajo impacto\", \"Medio impacto\", \"Alto impacto\"]\n",
    "\n",
    "empresas_group[\"Alto impacto\"] = empresas_group[\"Alto impacto\"].fillna(0)\n",
    "empresas_group[\"Bajo impacto\"] = empresas_group[\"Bajo impacto\"].fillna(0)\n",
    "empresas_group[\"Medio impacto\"] = empresas_group[\"Medio impacto\"].fillna(0)\n",
    "\n",
    "empresas_group[\"Alto impacto\"] = empresas_group[\"Alto impacto\"].astype(int)\n",
    "empresas_group[\"Bajo impacto\"] = empresas_group[\"Bajo impacto\"].astype(int)\n",
    "empresas_group[\"Medio impacto\"] = empresas_group[\"Medio impacto\"].astype(int)\n",
    "\n",
    "empresas_group"
   ]
  },
  {
   "cell_type": "code",
   "execution_count": 37,
   "metadata": {
    "scrolled": true
   },
   "outputs": [
    {
     "data": {
      "text/plain": [
       "<matplotlib.axes._subplots.AxesSubplot at 0x7fba6470b198>"
      ]
     },
     "execution_count": 37,
     "metadata": {},
     "output_type": "execute_result"
    },
    {
     "data": {
      "image/png": "[encoded data removed]",
      "text/plain": [
       "<Figure size 864x648 with 1 Axes>"
      ]
     },
     "metadata": {},
     "output_type": "display_data"
    }
   ],
   "source": [
    "empresas_graph = empresas_group.plot(kind = 'bar', stacked = True, rot=0)\n",
    "empresas_graph.set_xlabel(\"EMPRESAS\")\n",
    "empresas_graph.set_ylabel(\"TWEETS\")\n",
    "empresas_graph"
   ]
  },
  {
   "cell_type": "code",
   "execution_count": 42,
   "metadata": {
    "scrolled": false
   },
   "outputs": [],
   "source": [
    "df_empresa = df_complete[\n",
    "    df_complete[\"empresas\"] == \"Electricaribe\"\n",
    "].sort_values(by=[\"conteo_retweets\"], ascending=False)\n",
    "\n",
    "df_empresa.to_csv(\"tweets_electricaribe.csv\", sep = \"|\", index = False)\n",
    "\n",
    "#df_complete.to_csv(\"tweets_riesgo_.csv\", sep = \"|\", index = False)"
   ]
  }
 ],
 "metadata": {
  "kernelspec": {
   "display_name": "Python 3",
   "language": "python",
   "name": "python3"
  },
  "language_info": {
   "codemirror_mode": {
    "name": "ipython",
    "version": 3
   },
   "file_extension": ".py",
   "mimetype": "text/x-python",
   "name": "python",
   "nbconvert_exporter": "python",
   "pygments_lexer": "ipython3",
   "version": "3.5.2"
  }
 },
 "nbformat": 4,
 "nbformat_minor": 2
}
